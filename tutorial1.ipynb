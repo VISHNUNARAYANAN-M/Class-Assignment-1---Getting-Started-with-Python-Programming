{
  "nbformat": 4,
  "nbformat_minor": 0,
  "metadata": {
    "colab": {
      "name": "tutorial1.ipynb",
      "provenance": [],
      "authorship_tag": "ABX9TyM1tZyQaJ68MhGoEOf8/DY6",
      "include_colab_link": true
    },
    "kernelspec": {
      "name": "python3",
      "display_name": "Python 3"
    }
  },
  "cells": [
    {
      "cell_type": "markdown",
      "metadata": {
        "id": "view-in-github",
        "colab_type": "text"
      },
      "source": [
        "<a href=\"https://colab.research.google.com/github/VISHNUNARAYANAN-M/Class-Assignment-1---Getting-Started-with-Python-Programming/blob/master/tutorial1.ipynb\" target=\"_parent\"><img src=\"https://colab.research.google.com/assets/colab-badge.svg\" alt=\"Open In Colab\"/></a>"
      ]
    },
    {
      "cell_type": "markdown",
      "metadata": {
        "id": "ATS1fsoePA_T",
        "colab_type": "text"
      },
      "source": [
        "1)Write a Python code to check whether two strings are equal or not."
      ]
    },
    {
      "cell_type": "code",
      "metadata": {
        "id": "eq7Mvx0YPb8T",
        "colab_type": "code",
        "colab": {
          "base_uri": "https://localhost:8080/",
          "height": 68
        },
        "outputId": "49962aff-ad0b-4427-96f5-6f95c6e6694e"
      },
      "source": [
        "string1=input(\"enter first string:\")\n",
        "\n",
        "string2=input(\"enter second string:\")\n",
        "if(string1==string2):\n",
        "  print(\"yes\")\n",
        "else:\n",
        "  print(\"no\")\n"
      ],
      "execution_count": 2,
      "outputs": [
        {
          "output_type": "stream",
          "text": [
            "enter first string:good\n",
            "enter second string:bad\n",
            "no\n"
          ],
          "name": "stdout"
        }
      ]
    },
    {
      "cell_type": "markdown",
      "metadata": {
        "id": "FfrHFkJKaomp",
        "colab_type": "text"
      },
      "source": [
        "enter first string:good \n",
        " enter second string:good \n",
        "   yes"
      ]
    },
    {
      "cell_type": "markdown",
      "metadata": {
        "id": "OLlvXjq3a_K3",
        "colab_type": "text"
      },
      "source": [
        "2)Write a Python code to add two numbers"
      ]
    },
    {
      "cell_type": "code",
      "metadata": {
        "id": "r7YLvWphbofG",
        "colab_type": "code",
        "colab": {
          "base_uri": "https://localhost:8080/",
          "height": 68
        },
        "outputId": "da17e31b-20ff-4564-be47-9d363bf294f2"
      },
      "source": [
        "a=int(input(\"enter first number\"))\n",
        "b=int(input(\"enter second number\"))\n",
        "a+b"
      ],
      "execution_count": 3,
      "outputs": [
        {
          "output_type": "stream",
          "text": [
            "enter first number1\n",
            "enter second number2\n"
          ],
          "name": "stdout"
        },
        {
          "output_type": "execute_result",
          "data": {
            "text/plain": [
              "3"
            ]
          },
          "metadata": {
            "tags": []
          },
          "execution_count": 3
        }
      ]
    },
    {
      "cell_type": "markdown",
      "metadata": {
        "id": "D5HoHnICcV3i",
        "colab_type": "text"
      },
      "source": [
        "3)Write a Python code to find the square root of a number"
      ]
    },
    {
      "cell_type": "code",
      "metadata": {
        "id": "Z45T8ROScfQU",
        "colab_type": "code",
        "colab": {
          "base_uri": "https://localhost:8080/",
          "height": 51
        },
        "outputId": "289cfcfb-588d-442d-8b85-070b01fc07df"
      },
      "source": [
        "a=int(input(\"enter a number\"))\n",
        "sqrt=a**.5\n",
        "print(\"square root:\",sqrt)"
      ],
      "execution_count": 11,
      "outputs": [
        {
          "output_type": "stream",
          "text": [
            "enter a number9\n",
            "square root: 3.0\n"
          ],
          "name": "stdout"
        }
      ]
    },
    {
      "cell_type": "markdown",
      "metadata": {
        "id": "lI4rQ4dhfSmL",
        "colab_type": "text"
      },
      "source": [
        "4)Write a Python code to Calculate the Area of a Triangle"
      ]
    },
    {
      "cell_type": "code",
      "metadata": {
        "id": "2yqL-i1oOz1t",
        "colab_type": "code",
        "colab": {
          "base_uri": "https://localhost:8080/",
          "height": 68
        },
        "outputId": "662cddb2-8ba3-4ae5-920b-c7ceb9df616a"
      },
      "source": [
        "base=int(input(\"enter base:\"))\n",
        "height=int(input(\"enter height\"))\n",
        "area=.5*base*height\n",
        "print(\"area is\",area,\"square units\")"
      ],
      "execution_count": 12,
      "outputs": [
        {
          "output_type": "stream",
          "text": [
            "enter base:10\n",
            "enter height20\n",
            "area is 100.0 square units\n"
          ],
          "name": "stdout"
        }
      ]
    },
    {
      "cell_type": "markdown",
      "metadata": {
        "id": "D-vXMbLygXzP",
        "colab_type": "text"
      },
      "source": [
        "5)Write a Python code to to Convert Celsius To Fahrenheit"
      ]
    },
    {
      "cell_type": "code",
      "metadata": {
        "id": "YsgNzdX3giN3",
        "colab_type": "code",
        "colab": {
          "base_uri": "https://localhost:8080/",
          "height": 51
        },
        "outputId": "a2f5d92d-0b96-476f-874b-5845b2b6c6fe"
      },
      "source": [
        "celsius=float(input(\"enter temp in celsius\"))\n",
        "fahrenheit=(celsius*9/5)+32\n",
        "print(\"{0}:celsius is {1}:fahrenheit\".format(celsius,fahrenheit))"
      ],
      "execution_count": 15,
      "outputs": [
        {
          "output_type": "stream",
          "text": [
            "enter temp in celsius100\n",
            "100.0:celsius is 212.0:fahrenheit\n"
          ],
          "name": "stdout"
        }
      ]
    },
    {
      "cell_type": "markdown",
      "metadata": {
        "id": "yIXUN465iUrD",
        "colab_type": "text"
      },
      "source": [
        "6)Write a Python code to Check if a Number is Positive, Negative or 0"
      ]
    },
    {
      "cell_type": "code",
      "metadata": {
        "id": "A_R8DK4sis0x",
        "colab_type": "code",
        "colab": {
          "base_uri": "https://localhost:8080/",
          "height": 51
        },
        "outputId": "b05c3641-c19c-4092-b349-9bbf7fe7d093"
      },
      "source": [
        "a=float(input(\"enter a number:\"))\n",
        "if(a>0):\n",
        "  print(\"number is positive\")\n",
        "elif a==0:\n",
        " print(\"number is zero\")\n",
        "else:\n",
        "  print(\"number is negative\")"
      ],
      "execution_count": 31,
      "outputs": [
        {
          "output_type": "stream",
          "text": [
            "enter a number:10\n",
            "number is positive\n"
          ],
          "name": "stdout"
        }
      ]
    },
    {
      "cell_type": "markdown",
      "metadata": {
        "id": "nyJxczrMnAzV",
        "colab_type": "text"
      },
      "source": [
        "enter a number:0\n",
        "number is zero"
      ]
    },
    {
      "cell_type": "markdown",
      "metadata": {
        "id": "uxu4isPhmyOK",
        "colab_type": "text"
      },
      "source": [
        "enter a number:-2\n",
        "number is negative"
      ]
    },
    {
      "cell_type": "markdown",
      "metadata": {
        "id": "rWksIRe4nOkP",
        "colab_type": "text"
      },
      "source": [
        "7)Write a Python code to Find the Largest Among Three Numbers"
      ]
    },
    {
      "cell_type": "code",
      "metadata": {
        "id": "Ak-wFEpknnW8",
        "colab_type": "code",
        "colab": {
          "base_uri": "https://localhost:8080/",
          "height": 85
        },
        "outputId": "a1ce197b-3d72-420c-b953-0eb3d8dd4c7d"
      },
      "source": [
        "a=int(input(\"enter first number\"))\n",
        "b=int(input(\"enter second number\"))\n",
        "c=int(input(\"enter third number\"))\n",
        "if(a>b and a>c):\n",
        " print(a,\"greater\")\n",
        "elif a>b and a<c:\n",
        "  print(c,\"greater\")\n",
        "elif b>c:\n",
        "  print(b,\"greater\")\n",
        "else:\n",
        "   print(c,\"greater\")\n"
      ],
      "execution_count": 38,
      "outputs": [
        {
          "output_type": "stream",
          "text": [
            "enter first number3\n",
            "enter second number5\n",
            "enter third number8\n",
            "8 greater\n"
          ],
          "name": "stdout"
        }
      ]
    },
    {
      "cell_type": "code",
      "metadata": {
        "id": "C1zaXyixnT03",
        "colab_type": "code",
        "colab": {}
      },
      "source": [
        ""
      ],
      "execution_count": null,
      "outputs": []
    }
  ]
}