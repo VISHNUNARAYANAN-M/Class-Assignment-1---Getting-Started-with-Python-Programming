{
  "nbformat": 4,
  "nbformat_minor": 0,
  "metadata": {
    "colab": {
      "name": "list assignment.ipynb",
      "provenance": [],
      "authorship_tag": "ABX9TyMSNShWtiSuZLT1nFrxTfsa",
      "include_colab_link": true
    },
    "kernelspec": {
      "name": "python3",
      "display_name": "Python 3"
    }
  },
  "cells": [
    {
      "cell_type": "markdown",
      "metadata": {
        "id": "view-in-github",
        "colab_type": "text"
      },
      "source": [
        "<a href=\"https://colab.research.google.com/github/VISHNUNARAYANAN-M/Class-Assignment-1---Getting-Started-with-Python-Programming/blob/master/list_assignment.ipynb\" target=\"_parent\"><img src=\"https://colab.research.google.com/assets/colab-badge.svg\" alt=\"Open In Colab\"/></a>"
      ]
    },
    {
      "cell_type": "code",
      "metadata": {
        "id": "eNJIhZzhjHAG",
        "colab_type": "code",
        "colab": {
          "base_uri": "https://localhost:8080/",
          "height": 68
        },
        "outputId": "77dbc29a-1eb7-4f4c-a292-f8c9f7da2774"
      },
      "source": [
        "mylist = [\"name\",\"33\",\"[5,2]\",\"apple\"]\n",
        "print('List has the items: ', mylist)\n",
        "searchItem = input('Enter a item to search for: ')\n",
        "found =False\n",
        "for i in range(len(mylist)):\n",
        "    if mylist[i] == searchItem:\n",
        "        found = True\n",
        "        print(searchItem, ' was found in the list at index ', i)\n",
        "        break\n",
        "if found == False:\n",
        "    print(searchItem, ' was not found in the list!')\n",
        "\n"
      ],
      "execution_count": 23,
      "outputs": [
        {
          "output_type": "stream",
          "text": [
            "List has the items:  ['name', '33', '[5,2]', 'apple']\n",
            "Enter a item to search for: 33\n",
            "33  was found in the list at index  1\n"
          ],
          "name": "stdout"
        }
      ]
    },
    {
      "cell_type": "markdown",
      "metadata": {
        "id": "XN1TwGKNkalp",
        "colab_type": "text"
      },
      "source": [
        "List has the items:  ['name', '33', '[5,2]', 'apple']\n",
        "Enter a item to search for: 2\n",
        "2  was not found in the list!\n",
        "\n",
        "\n"
      ]
    }
  ]
}