{
  "nbformat": 4,
  "nbformat_minor": 0,
  "metadata": {
    "colab": {
      "name": "file handling.ipynb",
      "provenance": [],
      "collapsed_sections": [],
      "authorship_tag": "ABX9TyPPgjvyx0EBKeLc3nLk0U6t",
      "include_colab_link": true
    },
    "kernelspec": {
      "name": "python3",
      "display_name": "Python 3"
    }
  },
  "cells": [
    {
      "cell_type": "markdown",
      "metadata": {
        "id": "view-in-github",
        "colab_type": "text"
      },
      "source": [
        "<a href=\"https://colab.research.google.com/github/VISHNUNARAYANAN-M/Class-Assignment-1---Getting-Started-with-Python-Programming/blob/master/file_handling.ipynb\" target=\"_parent\"><img src=\"https://colab.research.google.com/assets/colab-badge.svg\" alt=\"Open In Colab\"/></a>"
      ]
    },
    {
      "cell_type": "markdown",
      "metadata": {
        "id": "7HTii2MGTnTM"
      },
      "source": [
        "write a python program to read numbers sorted in one file and store the sorted numbers in another file after deleting duplicates"
      ]
    },
    {
      "cell_type": "code",
      "metadata": {
        "id": "Ze37iT2vK20u"
      },
      "source": [
        "lines_seen = set() \n",
        "outfile = open(outfilename, \"w\")\n",
        "for line in open(infilename, \"r\"):\n",
        "    if line not in lines_seen: \n",
        "        outfile.write(line)\n",
        "        lines_seen.add(line)\n",
        "outfile.close()"
      ],
      "execution_count": null,
      "outputs": []
    },
    {
      "cell_type": "markdown",
      "metadata": {
        "id": "Ww0Xd7V8Vyg-"
      },
      "source": [
        "write a python code to read a text file, copy the contents to another file after removing the blank lines"
      ]
    },
    {
      "cell_type": "code",
      "metadata": {
        "id": "x22EHMcKVgY0"
      },
      "source": [
        "with open(\"test.txt\") as f:\n",
        "    with open(\"out.txt\", \"w\") as f1:\n",
        "        for line in f:\n",
        "            f1.write(line)"
      ],
      "execution_count": null,
      "outputs": []
    }
  ]
}