{
  "nbformat": 4,
  "nbformat_minor": 0,
  "metadata": {
    "colab": {
      "name": "assignment1.ipynb",
      "provenance": [],
      "authorship_tag": "ABX9TyM2Ry3ehlFPi+jI3OMRq4Sb",
      "include_colab_link": true
    },
    "kernelspec": {
      "name": "python3",
      "display_name": "Python 3"
    }
  },
  "cells": [
    {
      "cell_type": "markdown",
      "metadata": {
        "id": "view-in-github",
        "colab_type": "text"
      },
      "source": [
        "<a href=\"https://colab.research.google.com/github/VISHNUNARAYANAN-M/Class-Assignment-1---Getting-Started-with-Python-Programming/blob/master/assignment1.ipynb\" target=\"_parent\"><img src=\"https://colab.research.google.com/assets/colab-badge.svg\" alt=\"Open In Colab\"/></a>"
      ]
    },
    {
      "cell_type": "code",
      "metadata": {
        "id": "S4YLS1LnWkbN",
        "colab_type": "code",
        "colab": {}
      },
      "source": [
        ""
      ],
      "execution_count": null,
      "outputs": []
    },
    {
      "cell_type": "markdown",
      "metadata": {
        "id": "4MDaU-c3fUI2",
        "colab_type": "text"
      },
      "source": [
        "2"
      ]
    },
    {
      "cell_type": "code",
      "metadata": {
        "id": "ioBiPI6Gahtp",
        "colab_type": "code",
        "colab": {
          "base_uri": "https://localhost:8080/",
          "height": 68
        },
        "outputId": "7d676c27-3976-4dc8-9d9c-ef7b2ebdbb56"
      },
      "source": [
        "def my_details():\n",
        "  name,age=\"vishnunarayanan.m\",18\n",
        "  address=\"print address\"\n",
        "  print(\"Name:{}\\nAge:{}\\nAddress:{}\".format(name,age,address))\n",
        "my_details() "
      ],
      "execution_count": 19,
      "outputs": [
        {
          "output_type": "stream",
          "text": [
            "Name:vishnunarayanan.m\n",
            "Age:18\n",
            "Address:print address\n"
          ],
          "name": "stdout"
        }
      ]
    },
    {
      "cell_type": "markdown",
      "metadata": {
        "id": "PLXEA_wFgLBT",
        "colab_type": "text"
      },
      "source": [
        "3"
      ]
    },
    {
      "cell_type": "code",
      "metadata": {
        "id": "QDZNSKlceW7O",
        "colab_type": "code",
        "colab": {
          "base_uri": "https://localhost:8080/",
          "height": 51
        },
        "outputId": "6df185d6-06fd-4165-dac3-6ec5e6bd9b98"
      },
      "source": [
        "print(\"your name is,name\")\n",
        "\n",
        "print(\"your name is,vishnu\")\n"
      ],
      "execution_count": 22,
      "outputs": [
        {
          "output_type": "stream",
          "text": [
            "your name is,name\n",
            "your name is,vishnu\n"
          ],
          "name": "stdout"
        }
      ]
    },
    {
      "cell_type": "markdown",
      "metadata": {
        "id": "NHskLePqhDHc",
        "colab_type": "text"
      },
      "source": [
        "4"
      ]
    },
    {
      "cell_type": "code",
      "metadata": {
        "id": "SGGESr40hFc2",
        "colab_type": "code",
        "colab": {
          "base_uri": "https://localhost:8080/",
          "height": 68
        },
        "outputId": "97ed301b-b4c4-4e08-bb83-a38e7f1353ad"
      },
      "source": [
        "width=int(input(\"enter the width:\"))\n",
        "height=int(input(\"enter the height:\"))\n",
        "area=width*height\n",
        "print(\"the area is\",area,\"square units\")"
      ],
      "execution_count": 32,
      "outputs": [
        {
          "output_type": "stream",
          "text": [
            "enter thewidth:10\n",
            "enter the height:15\n",
            "the area is 150 square units\n"
          ],
          "name": "stdout"
        }
      ]
    },
    {
      "cell_type": "markdown",
      "metadata": {
        "id": "hRhbNGHel2qG",
        "colab_type": "text"
      },
      "source": [
        "5"
      ]
    },
    {
      "cell_type": "code",
      "metadata": {
        "id": "rYFTjOpql4Jv",
        "colab_type": "code",
        "colab": {
          "base_uri": "https://localhost:8080/",
          "height": 68
        },
        "outputId": "472dd1cb-4571-472d-934a-b1e032be3daf"
      },
      "source": [
        "base=int(input(\"enter the base:\"))\n",
        "height=int(input(\"enter the height:\"))\n",
        "area= .5*base*height\n",
        "print(\"the area is\",area,\"square units\")"
      ],
      "execution_count": 36,
      "outputs": [
        {
          "output_type": "stream",
          "text": [
            "enter the base:12\n",
            "enter the height:14\n",
            "the area is 84.0 square units\n"
          ],
          "name": "stdout"
        }
      ]
    },
    {
      "cell_type": "markdown",
      "metadata": {
        "id": "hXdKv-6dm0QL",
        "colab_type": "text"
      },
      "source": [
        "6"
      ]
    },
    {
      "cell_type": "code",
      "metadata": {
        "id": "kH_RcCk5m1Zz",
        "colab_type": "code",
        "colab": {
          "base_uri": "https://localhost:8080/",
          "height": 51
        },
        "outputId": "8958ea09-13ea-4d52-b330-2f4d7b035c55"
      },
      "source": [
        "radius=int(input(\"enter the radius:\"))\n",
        "area=3.14*radius**2\n",
        "print(\"the area is\",area,\"square units\")"
      ],
      "execution_count": 39,
      "outputs": [
        {
          "output_type": "stream",
          "text": [
            "enter the radius:14\n",
            "the area is 615.44 square units\n"
          ],
          "name": "stdout"
        }
      ]
    },
    {
      "cell_type": "markdown",
      "metadata": {
        "id": "io9ykrC1ohe5",
        "colab_type": "text"
      },
      "source": [
        "7"
      ]
    },
    {
      "cell_type": "code",
      "metadata": {
        "id": "sdjpVnheoi50",
        "colab_type": "code",
        "colab": {
          "base_uri": "https://localhost:8080/",
          "height": 85
        },
        "outputId": "e0b59c40-08ad-4222-8fbf-337e1112d682"
      },
      "source": [
        "name=input(\"enter name:\")\n",
        "age=int(input(\"enter age:\"))\n",
        "print(\"name is{0}\\nage is{1}\".format(name,age))"
      ],
      "execution_count": 80,
      "outputs": [
        {
          "output_type": "stream",
          "text": [
            "enter name:vishnu\n",
            "enter age:18\n",
            "name isvishnu\n",
            "age is18\n"
          ],
          "name": "stdout"
        }
      ]
    },
    {
      "cell_type": "markdown",
      "metadata": {
        "id": "nMKkMnd2fSLa",
        "colab_type": "text"
      },
      "source": [
        ""
      ]
    }
  ]
}